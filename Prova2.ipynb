{
 "cells": [
  {
   "cell_type": "code",
   "execution_count": 13,
   "id": "d0510e45-9969-48bc-bf0b-2e2a638be1a7",
   "metadata": {},
   "outputs": [],
   "source": [
    "import random\n",
    "consumo_diario = [ 50, 45, 55, 60, 48, 52, 47, 49, 53, 51, 50, 46, 54, 61, 49, 53, 48, 50, 52, 47, 56, 50, 55, 60, 48, 52, 47, 49, 53, 51 ]"
   ]
  },
  {
   "cell_type": "code",
   "execution_count": 17,
   "id": "d0da4fa2-4059-42a8-b4e8-aa6024e97a29",
   "metadata": {},
   "outputs": [],
   "source": [
    "##Calculando a média \n",
    "consumo_total = sum(consumo_diario)"
   ]
  },
  {
   "cell_type": "code",
   "execution_count": 18,
   "id": "94d6d10c-fc05-4f1e-a196-4d0c777c33b4",
   "metadata": {},
   "outputs": [],
   "source": [
    "## Calcular a média de consumo diário\n",
    "media_consumo_diario = consumo_total / len(consumo_diario)"
   ]
  },
  {
   "cell_type": "code",
   "execution_count": 19,
   "id": "5a9ceafa-4b53-4298-9e00-4da23d0b0105",
   "metadata": {},
   "outputs": [
    {
     "name": "stdout",
     "output_type": "stream",
     "text": [
      "A média de consumo diário é: 51.37 kWh\n"
     ]
    }
   ],
   "source": [
    "# Exibir o resultado\n",
    "print(f'A média de consumo diário é: {media_consumo_diario:.2f} kWh')\n"
   ]
  },
  {
   "cell_type": "code",
   "execution_count": null,
   "id": "f1eab6d8-38e8-4942-8247-438dffdf0ca6",
   "metadata": {},
   "outputs": [],
   "source": []
  }
 ],
 "metadata": {
  "kernelspec": {
   "display_name": "Python 3 (ipykernel)",
   "language": "python",
   "name": "python3"
  },
  "language_info": {
   "codemirror_mode": {
    "name": "ipython",
    "version": 3
   },
   "file_extension": ".py",
   "mimetype": "text/x-python",
   "name": "python",
   "nbconvert_exporter": "python",
   "pygments_lexer": "ipython3",
   "version": "3.12.4"
  }
 },
 "nbformat": 4,
 "nbformat_minor": 5
}
